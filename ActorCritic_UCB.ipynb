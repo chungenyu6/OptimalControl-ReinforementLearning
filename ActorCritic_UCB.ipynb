{
 "cells": [
  {
   "cell_type": "markdown",
   "metadata": {},
   "source": [
    "# Homework 5\n",
    "\n",
    "Oh hey. This is another coding assignment. We will have two coding problems. The first is to implement the actor critic algorithm. The second is to implement the upper confidence bound algorithm.\n"
   ]
  },
  {
   "cell_type": "code",
   "execution_count": 17,
   "metadata": {},
   "outputs": [],
   "source": [
    "import math\n",
    "import numpy as np\n",
    "import numpy.random as rnd\n",
    "import gym\n",
    "import matplotlib.pyplot as plt\n",
    "import torch as pt\n",
    "from tqdm import tqdm\n",
    "%matplotlib inline\n",
    "# may require installing Box2D - from terminal:\n",
    "# pip3 install Box2D\n",
    "\n",
    "# Fix libiomp5md.dll error\n",
    "import os\n",
    "os.environ['KMP_DUPLICATE_LIB_OK']='True'"
   ]
  },
  {
   "cell_type": "markdown",
   "metadata": {},
   "source": [
    "# A Value Function Network\n",
    "\n",
    "The code below creates a neural network that can be used to do temporal difference learning for value functions."
   ]
  },
  {
   "cell_type": "code",
   "execution_count": 2,
   "metadata": {},
   "outputs": [],
   "source": [
    "class ValueNetwork(pt.nn.Module):\n",
    "    \"\"\"\n",
    "    This is a neural network\n",
    "    \n",
    "    nX - dimension of state\n",
    "    nH - number of units in the hidden layers\n",
    "    nL - number of total layers. (must be at least two)\n",
    "    learningRate - gradient descent step size\n",
    "    nonlinearity - a nonlinear function used between layers (using \"tanh\" activation function)\n",
    "    \"\"\"\n",
    "    def __init__(self,nX,nH,nL=2,learningRate=1e-2,nonlinearity=pt.tanh,gamma = 1.):\n",
    "        \"\"\"\n",
    "        The __init__ function sets up the network\n",
    "        \"\"\"\n",
    "        \n",
    "        super(ValueNetwork,self).__init__()\n",
    "        # Define the linear layers. These hold the parameters\n",
    "        # nY = number of output layer\n",
    "        nY = 1\n",
    "        self.inputLin = pt.nn.Linear(nX,nH)\n",
    "        self.outputLin = pt.nn.Linear(nH,nY)\n",
    "        self.hiddenLin = [pt.nn.Linear(nH,nH) for _ in range(nL-2)]\n",
    "        \n",
    "        # The nonlinear function\n",
    "        self.nl = nonlinearity\n",
    "        \n",
    "        \n",
    "        # Optimization Parameters\n",
    "        self.gamma = gamma\n",
    "        self.lr = learningRate\n",
    "        \n",
    "    def forward(self,x):\n",
    "        \"\"\"\n",
    "        The forward function computes the value of the neural network\n",
    "        \"\"\"\n",
    "        \n",
    "        h = self.nl(self.inputLin(x))\n",
    "        for layer in self.hiddenLin:\n",
    "            h = self.nl(layer(h))\n",
    "        \n",
    "        y = self.outputLin(h)\n",
    "        return y\n",
    "    \n",
    "    \n",
    "    def optimizer_step(self,x,x_next,c,done,info):\n",
    "        \"\"\"\n",
    "        This function computes the temporal difference update rule\n",
    "        \"\"\"\n",
    "        V = self.forward(x)\n",
    "        V_next = self.forward(x_next)\n",
    "        \n",
    "        if (not done) or ('TimeLimit.truncated' in info.keys()):\n",
    "            V_pred = c + self.gamma * V_next\n",
    "        else:\n",
    "            V_pred = c\n",
    "        \n",
    "        tdError = pt.sum(V_pred - V).detach().clone()\n",
    "        \n",
    "        # These following steps compute the gradient with respect to the parameters\n",
    "        loss = V.sum()\n",
    "        # We must clear all of the current gradient values\n",
    "        self.zero_grad()\n",
    "        # This actually computes the gradient\n",
    "        loss.backward()\n",
    "        \n",
    "        # This loop executes the temporal difference learning rule\n",
    "        # over all of the parameters\n",
    "        for p in self.parameters():\n",
    "            # Each parameter has a corresponding data vector\n",
    "            # and a grad vector.\n",
    "            \n",
    "            # the data vector the current value of the parameter\n",
    "            # the grad vector is the gradient of the loss\n",
    "            # with respect to the parameter\n",
    "            p.data = p.data + self.lr * tdError * p.grad\n",
    "        \n",
    "        return tdError"
   ]
  },
  {
   "cell_type": "markdown",
   "metadata": {},
   "source": [
    "# A Policy Network (Not completed, only ideas in comment) for Q1\n"
   ]
  },
  {
   "cell_type": "code",
   "execution_count": 4,
   "metadata": {},
   "outputs": [],
   "source": [
    "# Policy Network \n",
    "class PolicyNetwork(pt.nn.Module):\n",
    "    \"\"\"\n",
    "    This is a neural network\n",
    "    \n",
    "    nX - dimension of state\n",
    "    nH - number of units in the hidden layers\n",
    "    nL - number of total layers. (must be at least two)\n",
    "    learningRate - gradient descent step size\n",
    "    nonlinearity - a nonlinear function used between layers (using \"tanh\" activation function)\n",
    "    \"\"\"\n",
    "    def __init__(self,nX,nH,nL=2,learningRate=1e-2,nonlinearity=pt.tanh,gamma = 1.):\n",
    "        \"\"\"\n",
    "        The __init__ function sets up the network\n",
    "        \"\"\"\n",
    "        \n",
    "        super(PolicyNetwork,self).__init__()\n",
    "        # Define the linear layers. These hold the parameters\n",
    "        # nY = number of output layer\n",
    "        nY = 1\n",
    "        self.inputLin = pt.nn.Linear(nX,nH)\n",
    "        self.outputLin = pt.nn.Linear(nH,nY)\n",
    "        self.hiddenLin = [pt.nn.Linear(nH,nH) for _ in range(nL-2)]\n",
    "        \n",
    "        # The nonlinear function\n",
    "        self.nl = nonlinearity\n",
    "        \n",
    "        \n",
    "        # Optimization Parameters\n",
    "        self.gamma = gamma\n",
    "        self.lr = learningRate\n",
    "        \n",
    "    def forward(self,x):\n",
    "        \"\"\"\n",
    "        The forward function computes the value of the neural network\n",
    "        \"\"\"\n",
    "        \n",
    "        h = self.nl(self.inputLin(x))\n",
    "        for layer in self.hiddenLin:\n",
    "            h = self.nl(layer(h))\n",
    "        \n",
    "        y = self.outputLin(h)\n",
    "        return y\n",
    "    \n",
    "    # ==== modify here =====\n",
    "    # use output from forward function + gaussian noise => actual action\n",
    "    def action(self,x):\n",
    "        \n",
    "        h = self.nl(self.inputLin(x))\n",
    "        for layer in self.hiddenLin:\n",
    "            h = self.nl(layer(h))\n",
    "        \n",
    "        y = self.outputLin(h)\n",
    "    return y\n",
    "\n",
    "    # ==== modify here =====\n",
    "    def optimizer_step(self,x,u, tdError, (gamma**step)):\n",
    "        \"\"\"\n",
    "        This function computes the temporal difference update rule\n",
    "        \"\"\"\n",
    "        V = self.forward(x)\n",
    "        V_next = self.forward(x_next)\n",
    "        \n",
    "        if (not done) or ('TimeLimit.truncated' in info.keys()):\n",
    "            V_pred = c + self.gamma * V_next\n",
    "        else:\n",
    "            V_pred = c\n",
    "        \n",
    "        tdError = pt.sum(V_pred - V).detach().clone()\n",
    "        \n",
    "        # These following steps compute the gradient with respect to the parameters\n",
    "        loss = V.sum()\n",
    "        # We must clear all of the current gradient values\n",
    "        self.zero_grad()\n",
    "        # This actually computes the gradient\n",
    "        loss.backward()\n",
    "        \n",
    "        # This loop executes the temporal difference learning rule\n",
    "        # over all of the parameters\n",
    "        for p in self.parameters():\n",
    "            # Each parameter has a corresponding data vector\n",
    "            # and a grad vector.\n",
    "            \n",
    "            # the data vector the current value of the parameter\n",
    "            # the grad vector is the gradient of the loss\n",
    "            # with respect to the parameter\n",
    "            p.data = p.data + self.lr * tdError * p.grad\n",
    "        \n",
    "        return tdError\n"
   ]
  },
  {
   "cell_type": "markdown",
   "metadata": {},
   "source": [
    "# Estimating the Value of a Randomized Policy\n",
    "\n",
    "The code below shows how the value network can be used to estimate the expected reward from a policy given by complete randomization. The temporal difference error will never go to zero completely, due to the fact that the future rewards depend on the randomly generated inputs. It does do a good enough job to be used in an actor-critic algorithm.\n",
    "\n",
    "The simulation below just gives 100 episodes in the interest of time. It doesn't look like much is happening, but learning is going on. "
   ]
  },
  {
   "cell_type": "code",
   "execution_count": 29,
   "metadata": {},
   "outputs": [
    {
     "name": "stderr",
     "output_type": "stream",
     "text": [
      "100%|██████████| 100/100 [00:13<00:00,  7.52it/s]\n"
     ]
    },
    {
     "data": {
      "text/plain": [
       "[<matplotlib.lines.Line2D at 0x2ca686daac0>]"
      ]
     },
     "execution_count": 29,
     "metadata": {},
     "output_type": "execute_result"
    },
    {
     "data": {
      "image/png": "[encoded data removed]",
      "text/plain": [
       "<Figure size 432x288 with 1 Axes>"
      ]
     },
     "metadata": {
      "needs_background": "light"
     },
     "output_type": "display_data"
    },
    {
     "data": {
      "image/png": "[encoded data removed]",
      "text/plain": [
       "<Figure size 432x288 with 1 Axes>"
      ]
     },
     "metadata": {
      "needs_background": "light"
     },
     "output_type": "display_data"
    }
   ],
   "source": [
    "env = gym.make('LunarLanderContinuous-v2')\n",
    "\n",
    "nH_value = 10000            # num of Hidden Layer\n",
    "nL_value = 2                # num of total Layer\n",
    "lr_value = 1e-4             # learning rate\n",
    "gamma = 1\n",
    "step = 0\n",
    "# I in book = (gamma**step)\n",
    "\n",
    "nS = env.observation_space.shape[0]\n",
    "\n",
    "# Obtain the value from: ValueNetwork function\n",
    "V = ValueNetwork(nS,nH_value,nL=nL_value,learningRate=lr_value,nonlinearity=pt.nn.Tanh(),gamma=gamma)\n",
    "\n",
    "# Obtain the value from: PolicyNetwork function\n",
    "pi = PolicyNetwork(nS,nH_value,nL=nL_value,learningRate=lr_value,nonlinearity=pt.nn.Tanh(),gamma=gamma)\n",
    "\n",
    "# Should be \"epoch\" as terminology in Neural Network\n",
    "NumEpisodes = int(1e4)\n",
    "\n",
    "EpTDErrors = []\n",
    "EpRewards = []\n",
    "render = False\n",
    "\n",
    "# tqdm: progress bar / ep: epoch\n",
    "for ep in tqdm(range(NumEpisodes)):\n",
    "    s = env.reset()       #initialize s (first state)\n",
    "    \n",
    "    EpReward = []\n",
    "    EpTDError = []\n",
    "    \n",
    "    # see training progress with images\n",
    "    if render:\n",
    "        env.render()\n",
    "    done = False\n",
    "\n",
    "    # 1 iteration\n",
    "    while not done:\n",
    "        # Cast the state: s to a pytorch tensor\n",
    "        x = pt.tensor(s,dtype=pt.float)\n",
    "        \n",
    "        # Generate a random action (depend on env of model you choose)\n",
    "        a = env.action_space.sample()  \n",
    "        \n",
    "        # Take action_a would get s_next, immediate rewards,...\n",
    "        s_next,r,done,info = env.step(a)\n",
    "        \n",
    "        # Cast the next state\n",
    "        x_next = pt.tensor(s_next,dtype=pt.float)\n",
    "        if render:\n",
    "            env.render()\n",
    "            \n",
    "        # Get TD error from <x & x_next & r>\n",
    "        # optimizer: https://pytorch.org/docs/master/optim.html#taking-an-optimization-step\n",
    "        tdErr = V.optimizer_step(x,x_next,r,done,info)\n",
    "        \n",
    "        ##### Add on ############ Update policy parameter: theta\n",
    "        # u = pi.action(x)\n",
    "        # detach the computational graph in tensor, based on the value of this tensor in a numpy array\n",
    "        # a = pt.tanh(u).detach().numpy()            \n",
    "        # pi.optimizer_step(self,x,u, tdErr, (gamma**step))\n",
    "        \n",
    "        ##### Add on ############ Compute correction for value\n",
    "        \n",
    "        # Record reward & error\n",
    "        EpReward.append(r)        \n",
    "        EpTDError.append(tdErr)\n",
    "        \n",
    "        # Update state s\n",
    "        s = np.copy(s_next)        \n",
    "        step += 1\n",
    "        \n",
    "    # Current Reward = sum of 1 episode rewards\n",
    "    CurReward = np.sum(EpReward)\n",
    "    CurEpTD = np.sum(EpTDError)\n",
    "    \n",
    "    # Record Total Rewards in every episode\n",
    "    EpRewards.append(CurReward)\n",
    "    EpTDErrors.append(CurEpTD)\n",
    "    \n",
    "    if render:\n",
    "        env.close()\n",
    "        \n",
    "# semilogy is a log plots\n",
    "plt.semilogy(np.abs(EpTDErrors))\n",
    "plt.xlabel('Steps')\n",
    "plt.ylabel('Temporal Difference Error')\n",
    "    \n",
    "plt.figure()\n",
    "plt.plot(EpRewards,'.',alpha=.3)"
   ]
  },
  {
   "cell_type": "markdown",
   "metadata": {},
   "source": [
    "# Coding Question 1\n",
    "\n",
    "Implement a network that produces a randomized policy of the form:\n",
    "\n",
    "$$\n",
    "A = \\phi(S,\\theta) + \\sigma W.\n",
    "$$\n",
    "\n",
    "Here $S$ is the state, $A$ is the action, $W$ is Gaussian noise with mean $0$ and covariance $I$, $\\sigma$ is a variance parameter,  and $\\theta$ are the neural network parameters.\n",
    "\n",
    "Use that policy network and the value network to solve the lunar lander problem via the actor critic method. In my copy of Sutton and Barto's book, it is called \"One-step Actor–Critic (episodic)\" and is on the top of page 332. \n",
    "\n",
    "By solve the problem, I mean \"gently lands the vehicle near the goal most of the time\". I don't have a specific number or reward level I want you to hit. Just learn it well enough so that the system isn't crashing or flying out of the screen.\n",
    "\n",
    "Hints and notes:\n",
    "* My solution used the value network exactly as above\n",
    "* My solution takes a few thousand episodes to nicely solve it\n",
    "* The policy network should have two closely related functions:\n",
    "    * `forward(self,x)` which computes the neural network output \n",
    "    * `action(self,x)` which adds some gaussian noise to the output of `forward(self,x)`, and is the actual action you compute.\n",
    "* You will need to calculate $\\nabla_\\theta \\log \\pi_\\theta(u|x)$, where $\\pi_\\theta$ is the probability of taking action $u$ given state $x$. You need to take care to ensure that you are not actually differentiating $u$, since its computation actually depends on the neural network parameters. You can make PyTorch treat $u$ as just a normal vector independent of the neural network by using the command `u_detached = u.detach().clone()`. Then work with `u_detached` instead of `u` when computing the gradients.\n",
    "* I used `pt.tanh` after computing the actions to force it to be in the action space, $[-1,1]^2$. The code looks something like:\n",
    "```\n",
    "u = pi.action(x)\n",
    "# This is the actual action plugged into the step function\n",
    "# detach the computational graph in tensor, based on the value of this tensor in a numpy array\n",
    "# https://stackoverflow.com/questions/63582590/why-do-we-call-detach-before-calling-numpy-on-a-pytorch-tensor\n",
    "a = pt.tanh(u).detach().numpy()\n",
    "#\n",
    "# Some code goes here\n",
    "#\n",
    "# The policy update uses the original u:\n",
    "pi.optimizer_step(x,u,tdErr* (gamma**step))\n",
    "# The gamma**step plays the role of I from the book.\n",
    "```\n",
    "It may still work without passing through `pt.tanh`,  but I have not tested this extensively.\n",
    "* Since this system basically always either lands, crashes, or leaves the window, we can be pretty sure that a terminal state will be reached. So, it is okay to take a discount factor of $\\gamma=1$.\n"
   ]
  },
  {
   "cell_type": "markdown",
   "metadata": {},
   "source": [
    "# === Down Below is Q2 ==="
   ]
  },
  {
   "cell_type": "markdown",
   "metadata": {},
   "source": [
    "# Upper Confidence Bound Algorithm"
   ]
  },
  {
   "cell_type": "markdown",
   "metadata": {},
   "source": [
    "# Solving Bandit Problems with $\\epsilon$-greedy."
   ]
  },
  {
   "cell_type": "markdown",
   "metadata": {},
   "source": [
    "The code here defines an agent that does $\\epsilon$-greedy for multi-armed bandits."
   ]
  },
  {
   "cell_type": "markdown",
   "metadata": {},
   "source": [
    "Here is a simulation of the $\\epsilon$-greedy method on a bandit problem with $10$ arms."
   ]
  },
  {
   "cell_type": "code",
   "execution_count": 71,
   "metadata": {},
   "outputs": [],
   "source": [
    "class epsilon_greedy_agent:\n",
    "    \"\"\"\n",
    "    This defines an agent that performs epsilon-greedy for multi-armed bandits.\n",
    "    \n",
    "    agent = epsilon_greedy_agent(K,epsilon)\n",
    "    \n",
    "    K - number of arms\n",
    "    epsilon - probability of randomizing the actions\n",
    "    Counts - Represent recorded times when arm was pulled.\n",
    "    \n",
    "    \"\"\"\n",
    "    def __init__(self,K,epsilon = .1):\n",
    "        self.Q = np.zeros(K)\n",
    "        self.epsilon = epsilon\n",
    "        self.K  = K\n",
    "        \n",
    "        # Do a Laplace approximation\n",
    "        self.counts = np.zeros(K)\n",
    "        self.rewards = np.zeros(K)\n",
    "        self.Q = np.inf * np.ones(K)\n",
    "        \n",
    "    def action(self):\n",
    "        # If prob is not in epsilon, do exploitation of best arm so far\n",
    "        if rnd.rand() < self.epsilon:\n",
    "            i = rnd.randint(self.K)\n",
    "            \n",
    "        # If prob falls in epsilon range, do exploration\n",
    "        else:\n",
    "            i = np.argmax(self.Q)\n",
    "            \n",
    "        return i\n",
    "    \n",
    "    # Choose to update chosen arm and reward\n",
    "    def update(self,i,r):        \n",
    "        self.counts[i] = self.counts[i] + 1                # update counts pulled for chosen arm\n",
    "        self.rewards[i] = self.rewards[i] + r              # update average/mean value/reward for chosen arm\n",
    "        \n",
    "        self.Q[i] = self.rewards[i] / self.counts[i]"
   ]
  },
  {
   "cell_type": "markdown",
   "metadata": {},
   "source": [
    "# Coding Question 2\n",
    "\n",
    "Code up the upper confidence bound (UCB) algorithm from Chapter 7 of the book by Lattimore and Szepesvari, which is on the canvas page. Compare your results with $\\epsilon$-greedy. \n",
    "\n",
    "What you'll find is: For any fixed value of $\\epsilon$, for a small number steps $\\epsilon$-greedy will do well, and perhaps better than UCB. As the number of steps gets large, the UCB will start to do much better. Try it out and plot a comparison of the two."
   ]
  },
  {
   "cell_type": "code",
   "execution_count": 68,
   "metadata": {},
   "outputs": [],
   "source": [
    "class UpperConfidenceBound_agent:\n",
    "    \"\"\"\n",
    "    This defines an agent that performs epsilon-greedy for multi-armed bandits.\n",
    "    \n",
    "    agent = epsilon_greedy_agent(K,epsilon)\n",
    "    \n",
    "    K - number of arms\n",
    "    epsilon - probability of randomizing the actions\n",
    "    Counts - Represent recorded times when arm was pulled.\n",
    "    \n",
    "    \"\"\"\n",
    "    def __init__(self,K):\n",
    "        self.Q = np.zeros(K)\n",
    "        self.K  = K\n",
    "        \n",
    "        # Do a Laplace approximation\n",
    "        self.counts = np.zeros(K)\n",
    "        self.rewards = np.zeros(K)\n",
    "        self.Q = np.inf * np.ones(K)\n",
    "        \n",
    "    def action(self):\n",
    "        # Get the best action\n",
    "        i = np.argmax(self.Q)        \n",
    "        return i\n",
    "    \n",
    "    # Choose to update chosen arm and reward\n",
    "    def update(self,i,r):        \n",
    "        mu_hat_i = np.zeros(K)\n",
    "        c_value = np.sqrt((2 * np.log(self.counts[i])) / self.counts[i])\n",
    "        mu_hat_i = self.rewards[i] / self.counts[i]\n",
    "        self.Q[i] = mu_hat_i + c_value\n",
    "        \n",
    "        self.counts[i] = self.counts[i] + 1                # update counts pulled for chosen arm\n",
    "        self.rewards[i] = self.rewards[i] + r              # update average/mean value/reward for chosen arm\n",
    "        \n"
   ]
  },
  {
   "cell_type": "code",
   "execution_count": 72,
   "metadata": {
    "scrolled": true
   },
   "outputs": [
    {
     "name": "stderr",
     "output_type": "stream",
     "text": [
      "  0%|          | 0/10000 [00:00<?, ?it/s]<ipython-input-68-a0bbc2075aa5>:29: RuntimeWarning: divide by zero encountered in log\n",
      "  c_value = np.sqrt((2 * np.log(self.counts[i])) / self.counts[i])\n",
      "<ipython-input-68-a0bbc2075aa5>:29: RuntimeWarning: invalid value encountered in sqrt\n",
      "  c_value = np.sqrt((2 * np.log(self.counts[i])) / self.counts[i])\n",
      "<ipython-input-68-a0bbc2075aa5>:30: RuntimeWarning: invalid value encountered in double_scalars\n",
      "  mu_hat_i = self.rewards[i] / self.counts[i]\n",
      "100%|██████████| 10000/10000 [00:00<00:00, 65380.72it/s]\n"
     ]
    },
    {
     "data": {
      "text/plain": [
       "<matplotlib.legend.Legend at 0x2ca6a497d90>"
      ]
     },
     "execution_count": 72,
     "metadata": {},
     "output_type": "execute_result"
    },
    {
     "data": {
      "image/png": "[encoded data removed]",
      "text/plain": [
       "<Figure size 432x288 with 1 Axes>"
      ]
     },
     "metadata": {
      "needs_background": "light"
     },
     "output_type": "display_data"
    }
   ],
   "source": [
    "K = 10                        # K bandits ( K lever to pull )\n",
    "mu = rnd.randn(K)             # random mean (ex. [0.1 0.2 0.6 3])\n",
    "\n",
    "NumSteps = int(1e4)\n",
    "\n",
    "\n",
    "agent1 = epsilon_greedy_agent(K)\n",
    "agent2 = UpperConfidenceBound_agent(K)\n",
    "\n",
    "\n",
    "# This is a sequence of random rewards\n",
    "Rewards = np.outer(np.ones(NumSteps),mu) + rnd.randn(NumSteps,K)\n",
    "\n",
    "AgentRewards1 = []\n",
    "AgentRewards2 = []\n",
    "\n",
    "for step in tqdm(range(NumSteps)):\n",
    "    \n",
    "    i1 = agent1.action()        # choose action (choose the best value from i-th lever, think as multi-bandit)\n",
    "    r1 = Rewards[step,i1]    \n",
    "    agent1.update(i1,r1)         # observe reward & update UCB    \n",
    "    AgentRewards1.append(r1)\n",
    "    \n",
    "    i2 = agent2.action()        # choose action (choose the best value from i-th lever, think as multi-bandit)\n",
    "    r2 = Rewards[step,i2]    \n",
    "    agent2.update(i2,r2)         # observe reward & update UCB    \n",
    "    AgentRewards2.append(r2)\n",
    "        \n",
    "        \n",
    "\n",
    "bestMu = np.max(mu)\n",
    "\n",
    "Regret1 = bestMu * np.arange(1,NumSteps+1) - np.cumsum(AgentRewards1)\n",
    "Regret2 = bestMu * np.arange(1,NumSteps+1) - np.cumsum(AgentRewards2)\n",
    "\n",
    "plt.plot(Regret1,label = 'Epsilon-greedy')  \n",
    "plt.legend(loc='upper left')\n",
    "\n",
    "plt.plot(Regret2,label = 'UCB')  \n",
    "plt.legend(loc='upper left')"
   ]
  }
 ],
 "metadata": {
  "kernelspec": {
   "display_name": "Python 3",
   "language": "python",
   "name": "python3"
  },
  "language_info": {
   "codemirror_mode": {
    "name": "ipython",
    "version": 3
   },
   "file_extension": ".py",
   "mimetype": "text/x-python",
   "name": "python",
   "nbconvert_exporter": "python",
   "pygments_lexer": "ipython3",
   "version": "3.8.8"
  }
 },
 "nbformat": 4,
 "nbformat_minor": 4
}
